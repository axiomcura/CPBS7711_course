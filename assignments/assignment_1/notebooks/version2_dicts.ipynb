{
 "cells": [
  {
   "cell_type": "code",
   "execution_count": null,
   "source": [
    "from collections import defaultdict\n",
    "from itertools import permutations"
   ],
   "outputs": [],
   "metadata": {}
  },
  {
   "cell_type": "code",
   "execution_count": 1,
   "source": [
    "class StringDB:\n",
    "    def __init__(self, fname):\n",
    "        db = self._parse_input(fname)\n",
    "        self.db = db\n",
    "\n",
    "    def _parse_string_db(self, fname: str) -> dict:\n",
    "        \"\"\" Internally parses the string.db file and converts it into a dictionary\"\"\"\n",
    "        db_contents = defaultdict(None)\n",
    "        with open(fname, \"r\") as infile:\n",
    "            record_contents = infile.readlines()\n",
    "            for records in record_contents:\n",
    "                data = records.replace(\"\\n\", \"\").split(\"\\t\")\n",
    "                protein_pair = \"{} {}\".format(data[0], data[1])\n",
    "                score = data[2]\n",
    "                db_contents[protein_pair] = score\n",
    "        return db_contents\n",
    "\n",
    "    def get_pair_score(self, genes, interaction_type):\n",
    "        \"\"\" Documentations later\"\"\"\n",
    "\n",
    "        # getting all possible combinations\n",
    "        results = []\n",
    "        pairs = permutations(genes, 2)\n",
    "        for gene1, gene2 in pairs:\n",
    "            query = \"{} {}\".format(gene1, gene2)\n",
    "            score = self.db[query]\n",
    "            if score == None:\n",
    "                continue\n",
    "            result = \"{} {} {} {}\".format(gene1, interaction_type, gene2, score)\n",
    "            results.append(result)\n",
    "\n",
    "# single function for parsing input file\n",
    "def parse_input(input_file):\n",
    "    \"\"\" Documentations later\"\"\"\n",
    "    locus_genes = defaultdict(None)\n",
    "    with open(input_file, 'r') as infile:\n",
    "        lines = infile.readlines()\n",
    "        for line in lines:\n",
    "            data = line.split(\"\\t\").strip(\"\\n\")\n",
    "            locus = data[1].split()[-1]\n",
    "            genes = data[2:]\n",
    "            locus_genes[locus] = genes\n",
    "\n",
    "    return locus_genes\n"
   ],
   "outputs": [],
   "metadata": {}
  },
  {
   "cell_type": "code",
   "execution_count": null,
   "source": [
    "# paths \n",
    "stirng_path = \"../\""
   ],
   "outputs": [],
   "metadata": {}
  },
  {
   "cell_type": "code",
   "execution_count": null,
   "source": [
    "# loading string database \\n\",\""
   ],
   "outputs": [],
   "metadata": {}
  }
 ],
 "metadata": {
  "orig_nbformat": 4,
  "language_info": {
   "name": "python",
   "version": "3.9.6",
   "mimetype": "text/x-python",
   "codemirror_mode": {
    "name": "ipython",
    "version": 3
   },
   "pygments_lexer": "ipython3",
   "nbconvert_exporter": "python",
   "file_extension": ".py"
  },
  "kernelspec": {
   "name": "python3",
   "display_name": "Python 3.9.6 64-bit ('CPBS': conda)"
  },
  "interpreter": {
   "hash": "3c1de21143e8a3d5c0be4ce5adc7fd55d206c754ecdb3de5438c62d84fa65601"
  }
 },
 "nbformat": 4,
 "nbformat_minor": 2
}