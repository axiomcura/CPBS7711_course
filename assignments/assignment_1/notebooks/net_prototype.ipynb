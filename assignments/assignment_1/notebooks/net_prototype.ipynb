{
 "cells": [
  {
   "cell_type": "code",
   "execution_count": 1,
   "metadata": {},
   "outputs": [],
   "source": [
    "import sys\n",
    "import random\n",
    "import pandas as pd \n",
    "\n",
    "# third party programs\n",
    "sys.path.append(\"../\")\n",
    "import simple_path\n",
    "from simple_path import StringDB, parse_input\n"
   ]
  },
  {
   "cell_type": "code",
   "execution_count": 2,
   "metadata": {},
   "outputs": [],
   "source": [
    "db = StringDB(\"../Data/STRING.txt\")\n",
    "StringDB_df = db.to_pandas()\n",
    "data_input = parse_input(\"../input/Input.gmt.txt\")"
   ]
  },
  {
   "cell_type": "code",
   "execution_count": 3,
   "metadata": {},
   "outputs": [],
   "source": [
    "# load in the the locus and build a function of 5000 random sub networks within the locus and def generate_random_network(n_networks: int) -> list:\n",
    "def generate_random_subnetworks(n_networks):\n",
    "\t\"\"\" Generates random subnetworks where each gene is selected per locus_name\n",
    "\n",
    "\tArguments:\n",
    "\t---------\n",
    "\tn_networks : int\n",
    "\t\tnumber of subnetworks to generate\n",
    "\n",
    "\tResults:\n",
    "\t-------\n",
    "\tlist \n",
    "\t\tlist of list where a each list contains  genes that make up the random sub\n",
    "\t\tnetwork.\n",
    "\t\"\"\" \n",
    "\tnetworks = []\n",
    "\tfor idx in range(n_networks):\n",
    "\t\tsub_network = []\n",
    "\t\tfor gene_list in data_input.values():\n",
    "\t\t\tgene = random.choice(gene_list)\n",
    "\t\t\tsub_network.append(gene)\n",
    "\t\tnetworks.append(sub_network)\n",
    "\treturn networks\n",
    "\n",
    "def generate_cofunctional_network(string_db):\n",
    "    \"\"\" counts all the edges attached to a gene \"\"\"\n",
    "    # create a set of all known genes \n",
    "    col1 = strign_db[]\n",
    "    # for loop of set of genes and query them into pandas df to find all edges connected to that gene \n",
    "\t\t# \n",
    "    "
   ]
  },
  {
   "cell_type": "code",
   "execution_count": 4,
   "metadata": {},
   "outputs": [
    {
     "name": "stdout",
     "output_type": "stream",
     "text": [
      "5000\n"
     ]
    }
   ],
   "source": [
    "x = generate_random_subnetworks(n_networks=5000)"
   ]
  },
  {
   "cell_type": "code",
   "execution_count": 5,
   "metadata": {},
   "outputs": [
    {
     "data": {
      "text/plain": [
       "Index(['ARF5', 'DVL2', '0.166000'], dtype='object')"
      ]
     },
     "execution_count": 5,
     "metadata": {},
     "output_type": "execute_result"
    }
   ],
   "source": [
    "StringDB_df.columns"
   ]
  },
  {
   "cell_type": "code",
   "execution_count": null,
   "metadata": {},
   "outputs": [],
   "source": []
  }
 ],
 "metadata": {
  "interpreter": {
   "hash": "8f017907b103f04ab54ee75f5ef347d18a8f1e66a833e936df5817e9e1842a1f"
  },
  "kernelspec": {
   "display_name": "Python 3.7.10 64-bit ('datasci': conda)",
   "name": "python3"
  },
  "language_info": {
   "codemirror_mode": {
    "name": "ipython",
    "version": 3
   },
   "file_extension": ".py",
   "mimetype": "text/x-python",
   "name": "python",
   "nbconvert_exporter": "python",
   "pygments_lexer": "ipython3",
   "version": "3.7.10"
  },
  "orig_nbformat": 4
 },
 "nbformat": 4,
 "nbformat_minor": 2
}
