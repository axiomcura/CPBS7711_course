{
 "cells": [
  {
   "cell_type": "code",
   "execution_count": 1,
   "metadata": {},
   "outputs": [],
   "source": [
    "import pandas as pd \n",
    "import numpy as np"
   ]
  },
  {
   "cell_type": "code",
   "execution_count": 2,
   "metadata": {},
   "outputs": [],
   "source": [
    "edge_desity = np.random.randint(100, size=1000)\n",
    "genes = \"gene1 gene2 gene4 gene5 gene6 gene7 gene8 gene9 gene10\".split()\n",
    "\n",
    "labled_data = tuple(zip(genes, edge_desity.tolist()))"
   ]
  },
  {
   "cell_type": "code",
   "execution_count": 3,
   "metadata": {},
   "outputs": [
    {
     "data": {
      "text/plain": [
       "0    (18.72, 19.53]\n",
       "1     (8.919, 9.81]\n",
       "2    (50.31, 51.12]\n",
       "3    (61.65, 62.46]\n",
       "4    (54.36, 55.17]\n",
       "5    (82.71, 83.52]\n",
       "6    (50.31, 51.12]\n",
       "7     (89.19, 90.0]\n",
       "8     (16.29, 17.1]\n",
       "Name: 1, dtype: category\n",
       "Categories (100, interval[float64, right]): [(8.919, 9.81] < (9.81, 10.62] < (10.62, 11.43] < (11.43, 12.24] ... (86.76, 87.57] < (87.57, 88.38] < (88.38, 89.19] < (89.19, 90.0]]"
      ]
     },
     "execution_count": 3,
     "metadata": {},
     "output_type": "execute_result"
    }
   ],
   "source": [
    "df = pd.DataFrame.from_dict(labled_data)\n",
    "pd.cut(df[1], 100)"
   ]
  },
  {
   "cell_type": "code",
   "execution_count": 23,
   "metadata": {},
   "outputs": [
    {
     "data": {
      "text/plain": [
       "0    59\n",
       "1    34\n",
       "2     5\n",
       "3    45\n",
       "4    55\n",
       "5    28\n",
       "6    63\n",
       "7    40\n",
       "8    61\n",
       "Name: 1, dtype: int64"
      ]
     },
     "execution_count": 23,
     "metadata": {},
     "output_type": "execute_result"
    }
   ],
   "source": [
    "df[1]"
   ]
  },
  {
   "cell_type": "code",
   "execution_count": 28,
   "metadata": {},
   "outputs": [
    {
     "data": {
      "text/plain": [
       "1972247"
      ]
     },
     "execution_count": 28,
     "metadata": {},
     "output_type": "execute_result"
    }
   ],
   "source": [
    "df = pd.read_csv(\"../Data/STRING.txt\", sep=\"\\t\")"
   ]
  },
  {
   "cell_type": "code",
   "execution_count": 29,
   "metadata": {},
   "outputs": [
    {
     "data": {
      "text/plain": [
       "(1972247, 3)"
      ]
     },
     "execution_count": 29,
     "metadata": {},
     "output_type": "execute_result"
    }
   ],
   "source": [
    "df.shape"
   ]
  },
  {
   "cell_type": "code",
   "execution_count": 30,
   "metadata": {},
   "outputs": [
    {
     "data": {
      "text/plain": [
       "15408"
      ]
     },
     "execution_count": 30,
     "metadata": {},
     "output_type": "execute_result"
    }
   ],
   "source": [
    "1972247 // 128"
   ]
  },
  {
   "cell_type": "code",
   "execution_count": 37,
   "metadata": {},
   "outputs": [
    {
     "data": {
      "text/plain": [
       "array([    0,   121,   242,   363,   485,   606,   727,   849,   970,\n",
       "        1091,  1213,  1334,  1455,  1577,  1698,  1819,  1941,  2062,\n",
       "        2183,  2305,  2426,  2547,  2669,  2790,  2911,  3033,  3154,\n",
       "        3275,  3397,  3518,  3639,  3761,  3882,  4003,  4124,  4246,\n",
       "        4367,  4488,  4610,  4731,  4852,  4974,  5095,  5216,  5338,\n",
       "        5459,  5580,  5702,  5823,  5944,  6066,  6187,  6308,  6430,\n",
       "        6551,  6672,  6794,  6915,  7036,  7158,  7279,  7400,  7522,\n",
       "        7643,  7764,  7885,  8007,  8128,  8249,  8371,  8492,  8613,\n",
       "        8735,  8856,  8977,  9099,  9220,  9341,  9463,  9584,  9705,\n",
       "        9827,  9948, 10069, 10191, 10312, 10433, 10555, 10676, 10797,\n",
       "       10919, 11040, 11161, 11283, 11404, 11525, 11646, 11768, 11889,\n",
       "       12010, 12132, 12253, 12374, 12496, 12617, 12738, 12860, 12981,\n",
       "       13102, 13224, 13345, 13466, 13588, 13709, 13830, 13952, 14073,\n",
       "       14194, 14316, 14437, 14558, 14680, 14801, 14922, 15044, 15165,\n",
       "       15286, 15408])"
      ]
     },
     "execution_count": 37,
     "metadata": {},
     "output_type": "execute_result"
    }
   ],
   "source": [
    "bins_ranges = np.floor(np.linspace(0, 15408, 128)).astype(int)"
   ]
  },
  {
   "cell_type": "code",
   "execution_count": null,
   "metadata": {},
   "outputs": [],
   "source": []
  }
 ],
 "metadata": {
  "interpreter": {
   "hash": "7a58df8a6ff5f5613076164983c0375d0e926a642d8d7d815d1badf38e040e58"
  },
  "kernelspec": {
   "display_name": "Python 3.9.6 64-bit ('pytorch': conda)",
   "name": "python3"
  },
  "language_info": {
   "codemirror_mode": {
    "name": "ipython",
    "version": 3
   },
   "file_extension": ".py",
   "mimetype": "text/x-python",
   "name": "python",
   "nbconvert_exporter": "python",
   "pygments_lexer": "ipython3",
   "version": "3.9.6"
  },
  "orig_nbformat": 4
 },
 "nbformat": 4,
 "nbformat_minor": 2
}
