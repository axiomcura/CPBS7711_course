{
 "cells": [
  {
   "cell_type": "code",
   "execution_count": 1,
   "source": [
    "\n",
    "import sys \n",
    "from collections import defaultdict\n",
    "from itertools import permutations\n",
    "from datetime import datetime"
   ],
   "outputs": [],
   "metadata": {}
  },
  {
   "cell_type": "code",
   "execution_count": 2,
   "source": [
    "class StringDB:\n",
    "    def __init__(self, fname):\n",
    "        db = self._parse_string_db(fname)\n",
    "        self._db = db\n",
    "        self.size = \"{} MB\".format(round(sys.getsizeof(db)/1024**2, 4))\n",
    "\n",
    "    def _parse_string_db(self, fname: str) -> dict:\n",
    "        \"\"\" Internally parses the string.db file and converts it into a dictionary\"\"\"\n",
    "        db_contents = defaultdict(lambda: None)\n",
    "        with open(fname, \"r\") as infile:\n",
    "            record_contents = infile.readlines()\n",
    "            for records in record_contents:\n",
    "                data = records.replace(\"\\n\", \"\").split(\"\\t\")\n",
    "                protein_pair = \"{} {}\".format(data[0], data[1])\n",
    "                score = data[2]\n",
    "                db_contents[protein_pair] = score\n",
    "        return db_contents\n",
    "\n",
    "    def get_pair_score(self, locus_name: str, proteins: list, interaction_type=\"pp\") -> list:\n",
    "        \"\"\" Accepts a list of genes and queries to database\n",
    "\n",
    "        Summary:\n",
    "        -------\n",
    "        Creates all possible permutations of protein interactions within the protein list.\n",
    "        Each pair will be queried into database and returns a score. The database will return\n",
    "        None if the score is not found and will not be recorded into the results. In addition,\n",
    "        a \"tracking\" list is also implemented to prevent repetitive query. This means that\n",
    "        reversed queries will be ignored if the original query has been recorded.\n",
    "\n",
    "        Argument\n",
    "        -------\n",
    "        genes : list\n",
    "            list of genes found in the locus\n",
    "\n",
    "        interaction_type : str (choices=[\"pp\", \"pd\", \"pr\", \"rc\", \"cr\", \"gl\", \"pm\", \"mp\"])\n",
    "            Interaction type of both genes/molecules. Supported interaction types are:\n",
    "            - p:protein - protein interaction\n",
    "            - pd: protein -> DNA\n",
    "            - pr: protein -> reaction\n",
    "            - rc: reaction -> compound\n",
    "            - cr: compound -> reaction\n",
    "            - gl: genetic lethal relationship\n",
    "            - pm: protein-metabolite interaction\n",
    "            - mp: metabolite-protein interaction\n",
    "\n",
    "        Returns\n",
    "        -------\n",
    "        list\n",
    "            Contains a list of strings that describes the interaction type\n",
    "            between two genes and its score. This cotnents is what is going\n",
    "            to be used to produce the sif file\n",
    "\n",
    "        \"\"\"\n",
    "\n",
    "        # type checking\n",
    "        known_interaction_types = [\"pp\", \"pd\", \"pr\", \"rc\", \"cr\", \"gl\", \"pm\", \"mp\"]\n",
    "        if interaction_type not in known_interaction_types:\n",
    "            raise ValueError(\"'{}' is an unsupported interaction type. Supported interaction: {}\".format(interaction_type, \", \".join(known_interaction_types)))\n",
    "        if not isinstance(proteins, list):\n",
    "            genes = [proteins]\n",
    "\n",
    "        # getting all possible combinations\n",
    "        results = []\n",
    "        searched = []\n",
    "        pairs = permutations(proteins, 2)\n",
    "        for gene1, gene2 in pairs:\n",
    "            query = \"{} {}\".format(gene1, gene2)\n",
    "            query_rev = \"{} {}\".format(gene2, gene1)\n",
    "            score = self._db[query]\n",
    "            if score == None:\n",
    "                continue\n",
    "            if  query_rev in searched:\n",
    "                continue\n",
    "            result = \"{} {} {} {}\".format(gene1, interaction_type, gene2, score)\n",
    "            # results.append(result)\n",
    "            results.append(result)\n",
    "            searched.append(query)\n",
    "        return results\n",
    "\n",
    "# single function for parsing input file\n",
    "def parse_input(input_file):\n",
    "    \"\"\" Documentations later\"\"\"\n",
    "    locus_genes = defaultdict(lambda: None)\n",
    "    with open(input_file, 'r') as infile:\n",
    "        lines = infile.readlines()\n",
    "        for line in lines:\n",
    "            data = line.strip(\"\\n\").split(\"\\t\")\n",
    "            locus = data[1].split()[-1]\n",
    "            genes = data[2:]\n",
    "            locus_genes[locus] = genes\n",
    "\n",
    "    return locus_genes\n",
    "\n",
    "def _flatten_data(data):\n",
    "    \"\"\" Flattens data into 1D array\n",
    "\n",
    "    This is usefull and cleaner processing for the data. embeded lists\n",
    "    is a result of multple loci being present in the input. This will\n",
    "    flatten the list of list into one single list.\n",
    "\n",
    "    Arguments:\n",
    "    ---------\n",
    "    data : dict\n",
    "        Labled data containing the locus name paried with all protein protein\n",
    "        interaction scores. \n",
    "\n",
    "    Returns:\n",
    "    --------\n",
    "    list\n",
    "        a flatten list conining all proteins pair interactions scores\n",
    "    \"\"\"\n",
    "\n",
    "    flatten_data = []\n",
    "    for gene_list in data.values():\n",
    "        flatten_data += gene_list\n",
    "\n",
    "    return flatten_data\n",
    "\n",
    "def save_as_sif(data):\n",
    "    \"\"\" Converts data into sif format. \"\"\"\n",
    "    unique_id = datetime.today().strftime(\"%m%d%y-%H%M%S\")\n",
    "    for locus_name, interactions in data.items():\n",
    "        outname = \"{}-{}.sif\".format(locus_name, unique_id)\n",
    "        with open(outname, \"w\") as sifile:\n",
    "            sifile.write(\"gene1 interaction gene2 score\\n\")\n",
    "            for interaction in interactions:\n",
    "                sifile.write(\"{}\\n\".format(interaction))\n",
    "\n",
    "    interactions_flatten = _flatten_data(data)\n",
    "    global_outname = \"all_nodes-{}.sif\".format(unique_id)\n",
    "    with open(global_outname, \"w\") as globalout:\n",
    "        globalout.write(\"gene1 interaction gene2 score\\n\")\n",
    "        for interaction in interactions_flatten:\n",
    "            globalout.write(\"{}\\n\".format(interaction))\n"
   ],
   "outputs": [],
   "metadata": {}
  },
  {
   "cell_type": "code",
   "execution_count": 3,
   "source": [
    "# paths\n",
    "string_path = \"../Data/String.txt\"\n",
    "input_path = \"../input/Input.gmt.txt\"\n",
    "db = StringDB(string_path)\n",
    "input_data = parse_input(input_path)"
   ],
   "outputs": [],
   "metadata": {}
  },
  {
   "cell_type": "code",
   "execution_count": 4,
   "source": [
    "# loading string database \\n\"\n",
    "count = 0\n",
    "results = defaultdict(lambda: None)\n",
    "for locus_name, gene_list in input_data.items():\n",
    "    result = db.get_pair_score(locus_name, gene_list, interaction_type=\"pp\")\n",
    "    results[locus_name] = result"
   ],
   "outputs": [],
   "metadata": {}
  },
  {
   "cell_type": "code",
   "execution_count": 5,
   "source": [
    "save_as_sif(results)"
   ],
   "outputs": [],
   "metadata": {}
  },
  {
   "cell_type": "code",
   "execution_count": 6,
   "source": [
    "datetime.today().strftime(\"%m%d%y-%H%M%S\")"
   ],
   "outputs": [
    {
     "output_type": "execute_result",
     "data": {
      "text/plain": [
       "'092221-202756'"
      ]
     },
     "metadata": {},
     "execution_count": 6
    }
   ],
   "metadata": {}
  },
  {
   "cell_type": "code",
   "execution_count": null,
   "source": [],
   "outputs": [],
   "metadata": {}
  }
 ],
 "metadata": {
  "orig_nbformat": 4,
  "language_info": {
   "name": "python",
   "version": "3.9.6",
   "mimetype": "text/x-python",
   "codemirror_mode": {
    "name": "ipython",
    "version": 3
   },
   "pygments_lexer": "ipython3",
   "nbconvert_exporter": "python",
   "file_extension": ".py"
  },
  "kernelspec": {
   "name": "python3",
   "display_name": "Python 3.9.6 64-bit ('CPBS': conda)"
  },
  "interpreter": {
   "hash": "3c1de21143e8a3d5c0be4ce5adc7fd55d206c754ecdb3de5438c62d84fa65601"
  }
 },
 "nbformat": 4,
 "nbformat_minor": 2
}